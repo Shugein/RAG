{
 "cells": [
  {
   "cell_type": "code",
   "execution_count": 2,
   "id": "712fad56",
   "metadata": {},
   "outputs": [
    {
     "name": "stderr",
     "output_type": "stream",
     "text": [
      "Loading checkpoint shards: 100%|██████████| 3/3 [00:05<00:00,  1.74s/it]\n"
     ]
    },
    {
     "name": "stdout",
     "output_type": "stream",
     "text": [
      "tensor([[0.5852, 0.0719],\n",
      "        [0.0687, 0.6210]])\n"
     ]
    },
    {
     "name": "stderr",
     "output_type": "stream",
     "text": [
      "/usr/lib/python3.12/contextlib.py:105: FutureWarning: `torch.backends.cuda.sdp_kernel()` is deprecated. In the future, this context manager will be removed. Please see `torch.nn.attention.sdpa_kernel()` for the new context manager, with updated signature.\n",
      "  self.gen = func(*args, **kwds)\n"
     ]
    }
   ],
   "source": [
    "import torch\n",
    "\n",
    "from sentence_transformers import SentenceTransformer\n",
    "\n",
    "# Load the model\n",
    "# We recommend enabling flash_attention_2 for better acceleration and memory saving\n",
    "model = SentenceTransformer(\n",
    "    \"ai-sage/Giga-Embeddings-instruct\",\n",
    "    model_kwargs={\n",
    "        \"torch_dtype\": torch.bfloat16, \n",
    "        \"trust_remote_code\": \"True\"\n",
    "    },\n",
    "    config_kwargs={\n",
    "        \"trust_remote_code\": \"True\"\n",
    "    }\n",
    ")\n",
    "model.max_seq_length = 4096\n",
    "\n",
    "# The queries and documents to embed\n",
    "queries = [\n",
    "    'What is the capital of Russia?',\n",
    "    'Explain gravity'\n",
    "]\n",
    "# No need to add instruction for retrieval documents\n",
    "documents = [\n",
    "    \"The capital of Russia is Moscow.\",\n",
    "    \"Gravity is a force that attracts two bodies towards each other. It gives weight to physical objects and is responsible for the movement of planets around the sun.\"\n",
    "]\n",
    "\n",
    "# Encode the queries and documents. Note that queries benefit from using a prompt\n",
    "query_embeddings = model.encode(queries, prompt='Instruct: Given a web search query, retrieve relevant passages that answer the query\\nQuery: ')\n",
    "document_embeddings = model.encode(documents)\n",
    "\n",
    "# Compute the (cosine) similarity between the query and document embeddings\n",
    "similarity = model.similarity(query_embeddings, document_embeddings)\n",
    "print(similarity)\n",
    "# tensor([[0.5846, 0.0702],\n",
    "#         [0.0691, 0.6207]])"
   ]
  },
  {
   "cell_type": "code",
   "execution_count": null,
   "id": "e52e0f26",
   "metadata": {},
   "outputs": [],
   "source": []
  },
  {
   "cell_type": "code",
   "execution_count": null,
   "id": "cc2263d4",
   "metadata": {},
   "outputs": [],
   "source": []
  }
 ],
 "metadata": {
  "kernelspec": {
   "display_name": "venv (3.12.3)",
   "language": "python",
   "name": "python3"
  },
  "language_info": {
   "codemirror_mode": {
    "name": "ipython",
    "version": 3
   },
   "file_extension": ".py",
   "mimetype": "text/x-python",
   "name": "python",
   "nbconvert_exporter": "python",
   "pygments_lexer": "ipython3",
   "version": "3.12.3"
  }
 },
 "nbformat": 4,
 "nbformat_minor": 5
}
